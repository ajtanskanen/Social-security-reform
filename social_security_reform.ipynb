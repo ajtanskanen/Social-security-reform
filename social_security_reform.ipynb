{
 "cells": [
  {
   "cell_type": "markdown",
   "metadata": {},
   "source": [
    "# Analyzing the social security reform with reinforced learning"
   ]
  },
  {
   "cell_type": "markdown",
   "metadata": {},
   "source": [
    "Tässä tehdään laskelmat artikkelia varten. Käytössä on gym-ympäristö _unemployment-v1_ , johon on toteutettu yksityiskohtaisesti sosiaaliturvaa eri tiloissa."
   ]
  },
  {
   "cell_type": "code",
   "execution_count": 1,
   "metadata": {},
   "outputs": [],
   "source": [
    "# for Colab, install fin_benefits and unemployment-gym from Github\n",
    "#!pip install -q git+https://github.com/ajtanskanen/benefits.git  \n",
    "#!pip install -q git+https://github.com/ajtanskanen/econogym.git\n",
    "#!pip install -q git+https://github.com/ajtanskanen/lifecycle-rl.git\n",
    "\n",
    "# and then restart kernel\n",
    "  \n",
    "  # For a specific version:\n",
    "#!pip install tensorflow==1.15\n",
    "#!pip install stable-baselines==2.10\n",
    "  \n",
    "# restart kernel after running pip's"
   ]
  },
  {
   "cell_type": "code",
   "execution_count": 2,
   "metadata": {},
   "outputs": [],
   "source": [
    "#import sys\n",
    "#print(sys.path)\n",
    "#sys.path.append('/usr/local/python3.7/site-packages')"
   ]
  },
  {
   "cell_type": "markdown",
   "metadata": {},
   "source": [
    "Then load all modules and set parameters for simulations."
   ]
  },
  {
   "cell_type": "code",
   "execution_count": 3,
   "metadata": {
    "scrolled": false
   },
   "outputs": [
    {
     "name": "stdout",
     "output_type": "stream",
     "text": [
      "WARNING:tensorflow:\n",
      "The TensorFlow contrib module will not be included in TensorFlow 2.0.\n",
      "For more information, please see:\n",
      "  * https://github.com/tensorflow/community/blob/master/rfcs/20180907-contrib-sunset.md\n",
      "  * https://github.com/tensorflow/addons\n",
      "  * https://github.com/tensorflow/io (for I/O related ops)\n",
      "If you depend on functionality not listed there, please file an issue.\n",
      "\n",
      "Populating the interactive namespace from numpy and matplotlib\n"
     ]
    }
   ],
   "source": [
    "import numpy as np\n",
    "import matplotlib.pyplot as plt\n",
    "from lifecycle_rl import Lifecycle\n",
    "\n",
    "%matplotlib inline\n",
    "%pylab inline"
   ]
  },
  {
   "cell_type": "code",
   "execution_count": 4,
   "metadata": {},
   "outputs": [],
   "source": [
    "# parameters for the simulation\n",
    "pop_size=100_000 # size of the population to be simulated\n",
    "size=10_000_000 # number of timesteps in phase 1 training (callback not used)\n",
    "batch=8 # size of minibatch in phase 1 as number of episodes\n",
    "deterministic=True # use deterministic prediction (True) or probabilitic prediction (False)\n",
    "mortality=False # include mortality in computations\n",
    "rlmodel='leaky_acktr' # use ACKTR algorithm with leaky ReLU\n",
    "year=2018"
   ]
  },
  {
   "cell_type": "markdown",
   "metadata": {
    "scrolled": false
   },
   "source": [
    "# Baseline\n",
    "\n",
    "The baseline model for Finnish social security"
   ]
  },
  {
   "cell_type": "code",
   "execution_count": 8,
   "metadata": {
    "scrolled": true
   },
   "outputs": [
    {
     "name": "stdout",
     "output_type": "stream",
     "text": [
      "No mortality included\n",
      "Parameters of lifecycle:\n",
      "timestep 0.25\n",
      "gamma 0.9793703613355593 (0.9200000000000003 per anno)\n",
      "min_age 18\n",
      "max_age 70\n",
      "min_retirementage 63.5\n",
      "max_retirementage 68\n",
      "ansiopvraha_kesto300 300\n",
      "ansiopvraha_kesto400 400\n",
      "ansiopvraha_kesto500 500\n",
      "ansiopvraha_toe 0.5\n",
      "perustulo False\n",
      "karenssi_kesto 0.25\n",
      "mortality False\n",
      "randomness True\n",
      "include_putki True\n",
      "include_pinkslip True\n",
      "perustulo False\n",
      "\n",
      "sigma_reduction True\n",
      "plotdebug False\n",
      "\n",
      "additional_tyel_premium 0.0\n",
      "scale_tyel_accrual False include_ove False\n",
      "\n",
      "version 3\n"
     ]
    }
   ],
   "source": [
    "baseline_model='baseline_model'\n",
    "baseline_results='baseline_results'\n",
    "baseline_start='v3_malli_baseline3test_nomort'\n",
    "baseline_LCmodel=Lifecycle(env='unemployment-v3')"
   ]
  },
  {
   "cell_type": "code",
   "execution_count": null,
   "metadata": {
    "scrolled": true
   },
   "outputs": [],
   "source": [
    "baseline_LCmodel.run_results(steps1=size,pop=pop_size,deterministic=deterministic,\n",
    "                train=True,predict=True,batch1=batch,rlmodel=rlmodel,\n",
    "                save=baseline_model,cont=True,start_from=baseline_start,results=baseline_results,\n",
    "                learning_rate=0.25,log_interval=1000)"
   ]
  },
  {
   "cell_type": "code",
   "execution_count": null,
   "metadata": {
    "scrolled": false
   },
   "outputs": [],
   "source": [
    "baseline_LCmodel.render(load=baseline_results,figname='v3_')"
   ]
  },
  {
   "cell_type": "markdown",
   "metadata": {},
   "source": [
    "# Increasing the retirement age\n",
    "\n",
    "Above the retirement age was 63.5 years. Here we increase it to 65 years."
   ]
  },
  {
   "cell_type": "code",
   "execution_count": 5,
   "metadata": {},
   "outputs": [],
   "source": [
    "retirement_model='retirement_LCmodel'\n",
    "retirement_results='retirement_results'"
   ]
  },
  {
   "cell_type": "markdown",
   "metadata": {},
   "source": [
    "Now, set up the Lifecycle model with a higher lowest retirement age"
   ]
  },
  {
   "cell_type": "code",
   "execution_count": 6,
   "metadata": {},
   "outputs": [
    {
     "name": "stdout",
     "output_type": "stream",
     "text": [
      "No mortality included\n",
      "Parameters of lifecycle:\n",
      "timestep 0.25\n",
      "gamma 0.9793703613355593 (0.9200000000000003 per anno)\n",
      "min_age 18\n",
      "max_age 70\n",
      "min_retirementage 65\n",
      "max_retirementage 68\n",
      "ansiopvraha_kesto300 300\n",
      "ansiopvraha_kesto400 400\n",
      "ansiopvraha_kesto500 500\n",
      "ansiopvraha_toe 0.5\n",
      "perustulo False\n",
      "karenssi_kesto 0.25\n",
      "mortality False\n",
      "randomness True\n",
      "include_putki True\n",
      "include_pinkslip True\n",
      "perustulo False\n",
      "\n",
      "sigma_reduction True\n",
      "plotdebug False\n",
      "\n",
      "additional_tyel_premium 0.0\n",
      "scale_tyel_accrual False include_ove False\n",
      "\n",
      "version 3\n"
     ]
    }
   ],
   "source": [
    "ret_LC=Lifecycle(env='unemployment-v3',min_retirementage=65)"
   ]
  },
  {
   "cell_type": "markdown",
   "metadata": {},
   "source": [
    "And then run the simulation."
   ]
  },
  {
   "cell_type": "code",
   "execution_count": 9,
   "metadata": {
    "scrolled": true
   },
   "outputs": [
    {
     "name": "stdout",
     "output_type": "stream",
     "text": [
      "train...\n",
      "phase 1\n",
      "batch 1 learning rate 0.0625 scaled 0.0625 n_cpu 8\n",
      "WARNING:tensorflow:From /Users/antti/opt/anaconda3/envs/py37/lib/python3.7/site-packages/stable_baselines/common/tf_util.py:191: The name tf.ConfigProto is deprecated. Please use tf.compat.v1.ConfigProto instead.\n",
      "\n",
      "WARNING:tensorflow:From /Users/antti/opt/anaconda3/envs/py37/lib/python3.7/site-packages/stable_baselines/common/tf_util.py:200: The name tf.Session is deprecated. Please use tf.compat.v1.Session instead.\n",
      "\n",
      "WARNING:tensorflow:From /Users/antti/opt/anaconda3/envs/py37/lib/python3.7/site-packages/stable_baselines/common/policies.py:116: The name tf.variable_scope is deprecated. Please use tf.compat.v1.variable_scope instead.\n",
      "\n",
      "WARNING:tensorflow:From /Users/antti/opt/anaconda3/envs/py37/lib/python3.7/site-packages/stable_baselines/common/input.py:25: The name tf.placeholder is deprecated. Please use tf.compat.v1.placeholder instead.\n",
      "\n",
      "WARNING:tensorflow:From /Users/antti/opt/anaconda3/envs/py37/lib/python3.7/site-packages/stable_baselines/common/policies.py:561: flatten (from tensorflow.python.layers.core) is deprecated and will be removed in a future version.\n",
      "Instructions for updating:\n",
      "Use keras.layers.flatten instead.\n",
      "WARNING:tensorflow:From /Users/antti/opt/anaconda3/envs/py37/lib/python3.7/site-packages/tensorflow_core/python/layers/core.py:332: Layer.apply (from tensorflow.python.keras.engine.base_layer) is deprecated and will be removed in a future version.\n",
      "Instructions for updating:\n",
      "Please use `layer.__call__` method instead.\n",
      "WARNING:tensorflow:From /Users/antti/opt/anaconda3/envs/py37/lib/python3.7/site-packages/stable_baselines/common/tf_layers.py:123: The name tf.get_variable is deprecated. Please use tf.compat.v1.get_variable instead.\n",
      "\n",
      "WARNING:tensorflow:From /Users/antti/opt/anaconda3/envs/py37/lib/python3.7/site-packages/stable_baselines/common/distributions.py:326: The name tf.random_uniform is deprecated. Please use tf.random.uniform instead.\n",
      "\n",
      "WARNING:tensorflow:From /Users/antti/opt/anaconda3/envs/py37/lib/python3.7/site-packages/stable_baselines/common/distributions.py:327: The name tf.log is deprecated. Please use tf.math.log instead.\n",
      "\n",
      "WARNING:tensorflow:From /Users/antti/opt/anaconda3/envs/py37/lib/python3.7/site-packages/stable_baselines/common/tf_util.py:449: The name tf.get_collection is deprecated. Please use tf.compat.v1.get_collection instead.\n",
      "\n",
      "WARNING:tensorflow:From /Users/antti/opt/anaconda3/envs/py37/lib/python3.7/site-packages/stable_baselines/common/tf_util.py:449: The name tf.GraphKeys is deprecated. Please use tf.compat.v1.GraphKeys instead.\n",
      "\n",
      "WARNING:tensorflow:From /Users/antti/opt/anaconda3/envs/py37/lib/python3.7/site-packages/stable_baselines/acktr/acktr.py:176: The name tf.random_normal is deprecated. Please use tf.random.normal instead.\n",
      "\n",
      "WARNING:tensorflow:From /Users/antti/opt/anaconda3/envs/py37/lib/python3.7/site-packages/stable_baselines/acktr/acktr.py:181: The name tf.summary.scalar is deprecated. Please use tf.compat.v1.summary.scalar instead.\n",
      "\n",
      "WARNING:tensorflow:From /Users/antti/opt/anaconda3/envs/py37/lib/python3.7/site-packages/tensorflow_core/python/ops/math_grad.py:1375: where (from tensorflow.python.ops.array_ops) is deprecated and will be removed in a future version.\n",
      "Instructions for updating:\n",
      "Use tf.where in 2.0, which has the same broadcast rule as np.where\n",
      "WARNING:tensorflow:From /Users/antti/opt/anaconda3/envs/py37/lib/python3.7/site-packages/stable_baselines/acktr/kfac.py:99: The name tf.get_default_graph is deprecated. Please use tf.compat.v1.get_default_graph instead.\n",
      "\n",
      "WARNING:tensorflow:From /Users/antti/opt/anaconda3/envs/py37/lib/python3.7/site-packages/stable_baselines/acktr/kfac.py:298: The name tf.diag is deprecated. Please use tf.linalg.tensor_diag instead.\n",
      "\n",
      "WARNING:tensorflow:From /Users/antti/opt/anaconda3/envs/py37/lib/python3.7/site-packages/stable_baselines/acktr/kfac.py:546: The name tf.assign is deprecated. Please use tf.compat.v1.assign instead.\n",
      "\n",
      "WARNING:tensorflow:From /Users/antti/opt/anaconda3/envs/py37/lib/python3.7/site-packages/stable_baselines/acktr/kfac.py:548: The name tf.assign_add is deprecated. Please use tf.compat.v1.assign_add instead.\n",
      "\n",
      "WARNING:tensorflow:From /Users/antti/opt/anaconda3/envs/py37/lib/python3.7/site-packages/stable_baselines/acktr/acktr.py:221: The name tf.global_variables_initializer is deprecated. Please use tf.compat.v1.global_variables_initializer instead.\n",
      "\n",
      "WARNING:tensorflow:From /Users/antti/opt/anaconda3/envs/py37/lib/python3.7/site-packages/stable_baselines/acktr/acktr.py:223: The name tf.summary.merge_all is deprecated. Please use tf.compat.v1.summary.merge_all instead.\n",
      "\n",
      "training...\n",
      "WARNING:tensorflow:From /Users/antti/opt/anaconda3/envs/py37/lib/python3.7/site-packages/stable_baselines/acktr/acktr.py:306: The name tf.global_variables is deprecated. Please use tf.compat.v1.global_variables instead.\n",
      "\n",
      "WARNING:tensorflow:From /Users/antti/opt/anaconda3/envs/py37/lib/python3.7/site-packages/stable_baselines/acktr/acktr.py:307: The name tf.is_variable_initialized is deprecated. Please use tf.compat.v1.is_variable_initialized instead.\n",
      "\n",
      "WARNING:tensorflow:From /Users/antti/opt/anaconda3/envs/py37/lib/python3.7/site-packages/stable_baselines/acktr/kfac.py:973: The name tf.train.MomentumOptimizer is deprecated. Please use tf.compat.v1.train.MomentumOptimizer instead.\n",
      "\n",
      "WARNING:tensorflow:From /Users/antti/opt/anaconda3/envs/py37/lib/python3.7/site-packages/stable_baselines/acktr/kfac.py:914: The name tf.mod is deprecated. Please use tf.math.mod instead.\n",
      "\n",
      "WARNING:tensorflow:From /Users/antti/opt/anaconda3/envs/py37/lib/python3.7/site-packages/stable_baselines/acktr/kfac.py:621: The name tf.self_adjoint_eig is deprecated. Please use tf.linalg.eigh instead.\n",
      "\n",
      "WARNING:tensorflow:From /Users/antti/opt/anaconda3/envs/py37/lib/python3.7/site-packages/stable_baselines/acktr/acktr.py:319: The name tf.variables_initializer is deprecated. Please use tf.compat.v1.variables_initializer instead.\n",
      "\n",
      "---------------------------------\n",
      "| explained_variance | 0.995    |\n",
      "| fps                | 281      |\n",
      "| nupdates           | 1        |\n",
      "| policy_entropy     | 1.34     |\n",
      "| policy_loss        | -0.128   |\n",
      "| total_timesteps    | 1680     |\n",
      "| value_loss         | 0.0664   |\n",
      "---------------------------------\n",
      "---------------------------------\n",
      "| explained_variance | 0.998    |\n",
      "| fps                | 1272     |\n",
      "| nupdates           | 1000     |\n",
      "| policy_entropy     | 1.38     |\n",
      "| policy_loss        | -0.00604 |\n",
      "| total_timesteps    | 1680000  |\n",
      "| value_loss         | 0.0251   |\n",
      "---------------------------------\n",
      "---------------------------------\n",
      "| explained_variance | 0.999    |\n",
      "| fps                | 1226     |\n",
      "| nupdates           | 2000     |\n",
      "| policy_entropy     | 1.33     |\n",
      "| policy_loss        | -0.0126  |\n",
      "| total_timesteps    | 3360000  |\n",
      "| value_loss         | 0.022    |\n",
      "---------------------------------\n",
      "---------------------------------\n",
      "| explained_variance | 0.999    |\n",
      "| fps                | 1218     |\n",
      "| nupdates           | 3000     |\n",
      "| policy_entropy     | 1.36     |\n",
      "| policy_loss        | -0.00429 |\n",
      "| total_timesteps    | 5040000  |\n",
      "| value_loss         | 0.0161   |\n",
      "---------------------------------\n",
      "---------------------------------\n",
      "| explained_variance | 0.999    |\n",
      "| fps                | 1215     |\n",
      "| nupdates           | 4000     |\n",
      "| policy_entropy     | 1.34     |\n",
      "| policy_loss        | 0.000188 |\n",
      "| total_timesteps    | 6720000  |\n",
      "| value_loss         | 0.014    |\n",
      "---------------------------------\n",
      "---------------------------------\n",
      "| explained_variance | 0.997    |\n",
      "| fps                | 1209     |\n",
      "| nupdates           | 5000     |\n",
      "| policy_entropy     | 1.39     |\n",
      "| policy_loss        | -0.024   |\n",
      "| total_timesteps    | 8400000  |\n",
      "| value_loss         | 0.0341   |\n",
      "---------------------------------\n",
      "done\n",
      "simulate\n",
      "simulating  retirement_results\n",
      "predicting...\n"
     ]
    },
    {
     "data": {
      "application/vnd.jupyter.widget-view+json": {
       "model_id": "27c6df9422344b93b6d59ee933851449",
       "version_major": 2,
       "version_minor": 0
      },
      "text/plain": [
       "Population:   0%|          | 0/10000 [00:00<?, ? p/s]"
      ]
     },
     "metadata": {},
     "output_type": "display_data"
    }
   ],
   "source": [
    "ret_LC.run_results(steps1=size,pop=pop_size,deterministic=deterministic,\n",
    "                train=True,predict=True,batch1=batch,\n",
    "                save=retirement_results,cont=True,start_from=baseline_start,results=retirement_model,\n",
    "                rlmodel=rlmodel,learning_rate=0.25,log_interval=1000)"
   ]
  },
  {
   "cell_type": "markdown",
   "metadata": {},
   "source": [
    "render method shows the results."
   ]
  },
  {
   "cell_type": "code",
   "execution_count": null,
   "metadata": {
    "scrolled": true
   },
   "outputs": [],
   "source": [
    "ret_LC.render()"
   ]
  },
  {
   "cell_type": "code",
   "execution_count": null,
   "metadata": {
    "scrolled": false
   },
   "outputs": [],
   "source": [
    "ret_LC.compare_with(baseline_LCmodel,label1='retirement 65',label2='retirement 63.5',figname='retage')"
   ]
  },
  {
   "cell_type": "code",
   "execution_count": null,
   "metadata": {},
   "outputs": [],
   "source": []
  }
 ],
 "metadata": {
  "kernelspec": {
   "display_name": "py37",
   "language": "python",
   "name": "py37"
  },
  "language_info": {
   "codemirror_mode": {
    "name": "ipython",
    "version": 3
   },
   "file_extension": ".py",
   "mimetype": "text/x-python",
   "name": "python",
   "nbconvert_exporter": "python",
   "pygments_lexer": "ipython3",
   "version": "3.7.9"
  }
 },
 "nbformat": 4,
 "nbformat_minor": 2
}
